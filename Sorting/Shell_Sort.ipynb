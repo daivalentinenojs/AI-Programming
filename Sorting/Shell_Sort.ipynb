{
 "cells": [
  {
   "cell_type": "code",
   "execution_count": 1,
   "metadata": {},
   "outputs": [],
   "source": [
    "# Title           : Shell Sort\n",
    "# Created By      : Daivalentineno Janitra Salim\n",
    "# Created In      : Taiwan\n",
    "# Created On      : 19th September 2020 10:20 (GMT+8)\n",
    "# Last Updated By : -\n",
    "# Last Updated In : -\n",
    "# Last Updated On : -"
   ]
  },
  {
   "cell_type": "code",
   "execution_count": 2,
   "metadata": {},
   "outputs": [],
   "source": [
    "def shell_sort(array_of_number):\n",
    "    gap = len(array_of_number) // 2\n",
    "    \n",
    "    while gap > 0:        \n",
    "        \n",
    "#         # Method 1 : Start from Index 0\n",
    "#         for i in range (0, len(array_of_number)-gap):            \n",
    "#             current_index = i    \n",
    "#             while current_index >= 0 and array_of_number[current_index] >= array_of_number[current_index+gap]:\n",
    "#                 array_of_number[current_index+gap], array_of_number[current_index] = array_of_number[current_index], array_of_number[current_index+gap]\n",
    "#                 current_index = current_index-gap\n",
    "#         gap = gap // 2 \n",
    "        \n",
    "        # Method 2 : Start from Index Gap Value\n",
    "        for i in range (gap, len(array_of_number)):\n",
    "            current_value = array_of_number[i]\n",
    "            current_index = i\n",
    "            while current_index >= gap and current_value < array_of_number[current_index-gap]:\n",
    "                array_of_number[current_index] = array_of_number[current_index-gap]\n",
    "                current_index = current_index-gap            \n",
    "            array_of_number[current_index] = current_value\n",
    "        gap = gap // 2 \n",
    "    \n",
    "    return array_of_number"
   ]
  },
  {
   "cell_type": "code",
   "execution_count": 3,
   "metadata": {},
   "outputs": [
    {
     "name": "stdout",
     "output_type": "stream",
     "text": [
      "[1, 2, 3, 4, 5, 7]\n"
     ]
    }
   ],
   "source": [
    "array_of_number = [7, 2, 4, 1, 5, 3]\n",
    "print(shell_sort(array_of_number))"
   ]
  }
 ],
 "metadata": {
  "kernelspec": {
   "display_name": "Python 3",
   "language": "python",
   "name": "python3"
  },
  "language_info": {
   "codemirror_mode": {
    "name": "ipython",
    "version": 3
   },
   "file_extension": ".py",
   "mimetype": "text/x-python",
   "name": "python",
   "nbconvert_exporter": "python",
   "pygments_lexer": "ipython3",
   "version": "3.7.3"
  }
 },
 "nbformat": 4,
 "nbformat_minor": 2
}
