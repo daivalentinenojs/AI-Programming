{
 "cells": [
  {
   "cell_type": "code",
   "execution_count": 1,
   "metadata": {},
   "outputs": [],
   "source": [
    "# Title           : Optimal Task Assignment\n",
    "# Created By      : Daivalentineno Janitra Salim\n",
    "# Created In      : Taiwan\n",
    "# Created On      : 25th September 2020 20:00 (GMT+8)\n",
    "# Last Updated By : -\n",
    "# Last Updated In : -\n",
    "# Last Updated On : -"
   ]
  },
  {
   "cell_type": "code",
   "execution_count": 2,
   "metadata": {},
   "outputs": [],
   "source": [
    "def optimal_task_assignment(array_of_number):\n",
    "    array_of_number = sorted(array_of_number)\n",
    "    \n",
    "    if len(array_of_number) % 2 == 0:\n",
    "        workers = len(array_of_number)//2  \n",
    "        \n",
    "        print(\"We need\", workers,\"workers to finish the tasks\")\n",
    "        for i in range (len(array_of_number)//2):\n",
    "                print(\"Worker\", (i+1), \"does Task\", array_of_number[i], \"and Task\", array_of_number[~i])\n",
    "    else:\n",
    "        workers = len(array_of_number)//2 + 1\n",
    "        \n",
    "        print(\"We need\", workers,\"workers to finish the tasks\")\n",
    "        print(\"Worker 1 does Task\", array_of_number[len(array_of_number)-1])\n",
    "        for i in range ((len(array_of_number)-1)//2):\n",
    "                print(\"Worker\", (i+2), \"does Task\", array_of_number[i], \"and Task\", array_of_number[~i-1])\n",
    "    \n",
    "        "
   ]
  },
  {
   "cell_type": "code",
   "execution_count": 3,
   "metadata": {},
   "outputs": [
    {
     "name": "stdout",
     "output_type": "stream",
     "text": [
      "We need 4 workers to finish the tasks\n",
      "Worker 1 does Task 1 and Task 10\n",
      "Worker 2 does Task 2 and Task 8\n",
      "Worker 3 does Task 3 and Task 7\n",
      "Worker 4 does Task 4 and Task 5\n"
     ]
    }
   ],
   "source": [
    "array_of_number = [1, 2, 3, 4, 5, 7, 8, 10]\n",
    "optimal_task_assignment(array_of_number)"
   ]
  }
 ],
 "metadata": {
  "kernelspec": {
   "display_name": "Python 3",
   "language": "python",
   "name": "python3"
  },
  "language_info": {
   "codemirror_mode": {
    "name": "ipython",
    "version": 3
   },
   "file_extension": ".py",
   "mimetype": "text/x-python",
   "name": "python",
   "nbconvert_exporter": "python",
   "pygments_lexer": "ipython3",
   "version": "3.7.3"
  }
 },
 "nbformat": 4,
 "nbformat_minor": 2
}
