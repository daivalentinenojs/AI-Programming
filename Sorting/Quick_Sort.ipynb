{
 "cells": [
  {
   "cell_type": "code",
   "execution_count": 1,
   "metadata": {},
   "outputs": [],
   "source": [
    "# Title           : Quick Sort\n",
    "# Created By      : Daivalentineno Janitra Salim\n",
    "# Created In      : Taiwan\n",
    "# Created On      : 18th September 2020 20:10 (GMT+8)\n",
    "# Last Updated By : -\n",
    "# Last Updated In : -\n",
    "# Last Updated On : -"
   ]
  },
  {
   "cell_type": "code",
   "execution_count": 2,
   "metadata": {},
   "outputs": [],
   "source": [
    "def quick_sort(array_of_number):\n",
    "    sort_split(array_of_number, 0, len(array_of_number)-1)\n",
    "    return array_of_number"
   ]
  },
  {
   "cell_type": "code",
   "execution_count": 3,
   "metadata": {},
   "outputs": [],
   "source": [
    "def quick_selection(array_of_number, start, end):\n",
    "    for i in range (start, end):\n",
    "        minimum_index = i\n",
    "        for j in range (i + 1, end + 1):\n",
    "            if array_of_number[j] < array_of_number[minimum_index]:\n",
    "                minimum_index = j\n",
    "        if minimum_index != i:\n",
    "            array_of_number[i], array_of_number[minimum_index] = array_of_number[minimum_index], array_of_number[i]"
   ]
  },
  {
   "cell_type": "code",
   "execution_count": 4,
   "metadata": {},
   "outputs": [],
   "source": [
    "def get_pivot(array_of_number, start, end):\n",
    "    middle = (start + end) // 2\n",
    "    pivot = end\n",
    "    if array_of_number[start] < array_of_number[middle]:\n",
    "        if array_of_number[middle] < array_of_number[end]:\n",
    "            pivot = middle\n",
    "    elif array_of_number[start] < array_of_number[end]:\n",
    "        pivot = start\n",
    "    return pivot"
   ]
  },
  {
   "cell_type": "code",
   "execution_count": 5,
   "metadata": {},
   "outputs": [],
   "source": [
    "def get_partition(array_of_number, start, end):\n",
    "    pivot_index = get_pivot(array_of_number, start, end)\n",
    "    pivot_value = array_of_number[pivot_index]\n",
    "    array_of_number[pivot_index], array_of_number[start] = array_of_number[start], array_of_number[pivot_index]\n",
    "    border_index = start\n",
    "    \n",
    "    for i in range(start, end+1):\n",
    "        if array_of_number[i] < pivot_value:\n",
    "            border_index += 1\n",
    "            array_of_number[i], array_of_number[border_index] = array_of_number[border_index], array_of_number[i]\n",
    "    array_of_number[start], array_of_number[border_index] = array_of_number[border_index], array_of_number[start]\n",
    "    return border_index"
   ]
  },
  {
   "cell_type": "code",
   "execution_count": 6,
   "metadata": {},
   "outputs": [],
   "source": [
    "def sort_split(array_of_number, start, end):  \n",
    "    threshold = 50\n",
    "    if end - start < threshold and start < end:\n",
    "        quick_selection(array_of_number, start, end)\n",
    "    elif start < end:\n",
    "        p = get_partition(array_of_number, start, end)\n",
    "        sort_split(array_of_number, start, p - 1)\n",
    "        sort_split(array_of_number, p + 1, end)"
   ]
  },
  {
   "cell_type": "code",
   "execution_count": 7,
   "metadata": {},
   "outputs": [
    {
     "name": "stdout",
     "output_type": "stream",
     "text": [
      "[1, 2, 3, 4, 5, 7]\n"
     ]
    }
   ],
   "source": [
    "array_of_number = [7, 2, 4, 1, 5, 3]\n",
    "print(quick_sort(array_of_number))"
   ]
  }
 ],
 "metadata": {
  "kernelspec": {
   "display_name": "Python 3",
   "language": "python",
   "name": "python3"
  },
  "language_info": {
   "codemirror_mode": {
    "name": "ipython",
    "version": 3
   },
   "file_extension": ".py",
   "mimetype": "text/x-python",
   "name": "python",
   "nbconvert_exporter": "python",
   "pygments_lexer": "ipython3",
   "version": "3.7.3"
  }
 },
 "nbformat": 4,
 "nbformat_minor": 2
}
