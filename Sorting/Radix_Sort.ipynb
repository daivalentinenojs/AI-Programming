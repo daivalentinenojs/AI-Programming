{
 "cells": [
  {
   "cell_type": "code",
   "execution_count": 1,
   "metadata": {},
   "outputs": [],
   "source": [
    "# Title           : Radix Sort\n",
    "# Created By      : Daivalentineno Janitra Salim\n",
    "# Created In      : Taiwan\n",
    "# Created On      : 19th September 2020 14:20 (GMT+8)\n",
    "# Last Updated By : -\n",
    "# Last Updated In : -\n",
    "# Last Updated On : -"
   ]
  },
  {
   "cell_type": "code",
   "execution_count": 2,
   "metadata": {},
   "outputs": [],
   "source": [
    "def counting_sort(array_of_number, digit):   \n",
    "    sorted_array_of_number = [0 for i in range(len(array_of_number))]\n",
    "    count_array_of_number = [0 for i in range(max(array_of_number)+1)]\n",
    "    \n",
    "    for i in range(0, len(array_of_number)): \n",
    "        index = (array_of_number[i]/digit) \n",
    "        count_array_of_number[int((index)%10)] += 1\n",
    "    \n",
    "    for i in range (len(count_array_of_number) - 1): \n",
    "        count_array_of_number[i+1] += count_array_of_number[i]\n",
    "    \n",
    "    i = len(array_of_number)-1\n",
    "    while i >= 0: \n",
    "        index = (array_of_number[i]/digit) \n",
    "        sorted_array_of_number[ count_array_of_number[ int((index)%10) ] - 1] = array_of_number[i] \n",
    "        count_array_of_number[int((index)%10)] -= 1\n",
    "        i -= 1\n",
    "    \n",
    "    i = 0\n",
    "    for i in range(0,len(array_of_number)): \n",
    "        array_of_number[i] = sorted_array_of_number[i] "
   ]
  },
  {
   "cell_type": "code",
   "execution_count": 3,
   "metadata": {},
   "outputs": [],
   "source": [
    "def radix_sort(array_of_number):\n",
    " \n",
    "    max_value = max(array_of_number)\n",
    " \n",
    "    digit = 1\n",
    "    while max_value/digit > 0:\n",
    "        counting_sort(array_of_number,digit)\n",
    "        digit *= 10\n",
    "    \n",
    "    return array_of_number"
   ]
  },
  {
   "cell_type": "code",
   "execution_count": 4,
   "metadata": {},
   "outputs": [
    {
     "name": "stdout",
     "output_type": "stream",
     "text": [
      "[1, 2, 4, 5, 7]\n"
     ]
    }
   ],
   "source": [
    "array_of_number = [7, 2, 4, 1, 5]\n",
    "print(radix_sort(array_of_number))"
   ]
  }
 ],
 "metadata": {
  "kernelspec": {
   "display_name": "Python 3",
   "language": "python",
   "name": "python3"
  },
  "language_info": {
   "codemirror_mode": {
    "name": "ipython",
    "version": 3
   },
   "file_extension": ".py",
   "mimetype": "text/x-python",
   "name": "python",
   "nbconvert_exporter": "python",
   "pygments_lexer": "ipython3",
   "version": "3.7.3"
  }
 },
 "nbformat": 4,
 "nbformat_minor": 2
}
