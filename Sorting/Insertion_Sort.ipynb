{
 "cells": [
  {
   "cell_type": "code",
   "execution_count": 34,
   "metadata": {},
   "outputs": [],
   "source": [
    "def insertion_sort(array_of_number):\n",
    "    for i in range(1, len(array_of_number)):\n",
    "        current_number = array_of_number[i]\n",
    "        for j in range(i-1, -1, -1):\n",
    "            if array_of_number[j] > current_number:               \n",
    "                array_of_number[j+1], array_of_number[j] = array_of_number[j], array_of_number[j+1]\n",
    "            else:\n",
    "                break\n",
    "    print(array_of_number)"
   ]
  },
  {
   "cell_type": "code",
   "execution_count": 35,
   "metadata": {},
   "outputs": [
    {
     "name": "stdout",
     "output_type": "stream",
     "text": [
      "[1, 2, 3, 4, 5, 7]\n"
     ]
    }
   ],
   "source": [
    "array_of_number = [7, 2, 4, 1, 5, 3]\n",
    "insertion_sort(array_of_number)"
   ]
  },
  {
   "cell_type": "code",
   "execution_count": null,
   "metadata": {},
   "outputs": [],
   "source": []
  }
 ],
 "metadata": {
  "kernelspec": {
   "display_name": "Python 3",
   "language": "python",
   "name": "python3"
  },
  "language_info": {
   "codemirror_mode": {
    "name": "ipython",
    "version": 3
   },
   "file_extension": ".py",
   "mimetype": "text/x-python",
   "name": "python",
   "nbconvert_exporter": "python",
   "pygments_lexer": "ipython3",
   "version": "3.7.3"
  }
 },
 "nbformat": 4,
 "nbformat_minor": 2
}
