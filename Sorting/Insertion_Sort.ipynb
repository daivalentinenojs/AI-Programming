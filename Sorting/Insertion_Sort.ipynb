def insertion_sort(array_of_number):
    for i in range(1, len(array_of_number)):
        current_number = array_of_number[i]
        for j in range(i-1, -1, -1):
            if array_of_number[j] > current_number:               
                array_of_number[j+1], array_of_number[j] = array_of_number[j], array_of_number[j+1]
            else:
                break
    print(array_of_number)
