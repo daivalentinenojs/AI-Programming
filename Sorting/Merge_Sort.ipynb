{
 "cells": [
  {
   "cell_type": "code",
   "execution_count": 118,
   "metadata": {},
   "outputs": [],
   "source": [
    "import sys"
   ]
  },
  {
   "cell_type": "code",
   "execution_count": 119,
   "metadata": {},
   "outputs": [],
   "source": [
    "def merge_sort(array_of_number):\n",
    "    split_array(array_of_number, 0, len(array_of_number)-1)\n",
    "    return array_of_number"
   ]
  },
  {
   "cell_type": "code",
   "execution_count": 154,
   "metadata": {},
   "outputs": [],
   "source": [
    "def split_array(array_of_number, start, end):\n",
    "    if start < end:\n",
    "        middle = (start + end) // 2\n",
    "        split_array(array_of_number, start, middle)\n",
    "        split_array(array_of_number, middle+1, end)\n",
    "        merge_array(array_of_number, start, middle, end)\n",
    "        print(array_of_number)"
   ]
  },
  {
   "cell_type": "code",
   "execution_count": 157,
   "metadata": {},
   "outputs": [],
   "source": [
    "def merge_array(array_of_number, start, middle, end):\n",
    "    left_side = array_of_number[start:middle+1]\n",
    "    right_side = array_of_number[middle+1:end+1]\n",
    "    \n",
    "    i = j = 0     \n",
    "    k = start\n",
    "    \n",
    "    while i < len(left_side) and j < len(right_side):\n",
    "        if left_side[i] < right_side[j]:\n",
    "            array_of_number[k] = left_side[i]\n",
    "            i += 1\n",
    "        else:\n",
    "            array_of_number[k] = right_side[j]\n",
    "            j += 1\n",
    "        k += 1\n",
    "\n",
    "    while i < len(left_side):        \n",
    "        array_of_number[k] = left_side[i]\n",
    "        i += 1\n",
    "        k += 1\n",
    "            \n",
    "    while j < len(right_side):\n",
    "        array_of_number[k] = right_side[j]\n",
    "        j += 1\n",
    "        k += 1"
   ]
  },
  {
   "cell_type": "code",
   "execution_count": 159,
   "metadata": {},
   "outputs": [
    {
     "name": "stdout",
     "output_type": "stream",
     "text": [
      "[2, 7, 4, 1, 5, 3]\n",
      "[2, 4, 7, 1, 5, 3]\n",
      "[2, 4, 7, 1, 5, 3]\n",
      "[2, 4, 7, 1, 3, 5]\n",
      "[1, 2, 3, 4, 5, 7]\n",
      "[1, 2, 3, 4, 5, 7]\n"
     ]
    }
   ],
   "source": [
    "array_of_number = [7, 2, 4, 1, 5, 3]\n",
    "# array_of_number = [7, 2, 4, 1]\n",
    "print(merge_sort(array_of_number))"
   ]
  },
  {
   "cell_type": "code",
   "execution_count": null,
   "metadata": {},
   "outputs": [],
   "source": []
  },
  {
   "cell_type": "code",
   "execution_count": null,
   "metadata": {},
   "outputs": [],
   "source": []
  }
 ],
 "metadata": {
  "kernelspec": {
   "display_name": "Python 3",
   "language": "python",
   "name": "python3"
  },
  "language_info": {
   "codemirror_mode": {
    "name": "ipython",
    "version": 3
   },
   "file_extension": ".py",
   "mimetype": "text/x-python",
   "name": "python",
   "nbconvert_exporter": "python",
   "pygments_lexer": "ipython3",
   "version": "3.7.3"
  }
 },
 "nbformat": 4,
 "nbformat_minor": 2
}
