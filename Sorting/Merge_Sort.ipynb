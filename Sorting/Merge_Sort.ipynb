{
 "cells": [
  {
   "cell_type": "code",
   "execution_count": 1,
   "metadata": {},
   "outputs": [],
   "source": [
    "# Title           : Merge Sort\n",
    "# Created By      : Daivalentineno Janitra Salim\n",
    "# Created In      : Taiwan\n",
    "# Created On      : 18th September 2020 19:15 (GMT+8)\n",
    "# Last Updated By : -\n",
    "# Last Updated In : -\n",
    "# Last Updated On : -"
   ]
  },
  {
   "cell_type": "code",
   "execution_count": 2,
   "metadata": {},
   "outputs": [],
   "source": [
    "def merge_sort(array_of_number):\n",
    "    split_array(array_of_number, 0, len(array_of_number)-1)\n",
    "    return array_of_number"
   ]
  },
  {
   "cell_type": "code",
   "execution_count": 3,
   "metadata": {},
   "outputs": [],
   "source": [
    "def split_array(array_of_number, start, end):\n",
    "    if start < end:\n",
    "        middle = (start + end) // 2\n",
    "        split_array(array_of_number, start, middle)\n",
    "        split_array(array_of_number, middle+1, end)\n",
    "        merge_array(array_of_number, start, middle, end)"
   ]
  },
  {
   "cell_type": "code",
   "execution_count": 4,
   "metadata": {},
   "outputs": [],
   "source": [
    "def merge_array(array_of_number, start, middle, end):\n",
    "    left_side = array_of_number[start:middle+1]\n",
    "    right_side = array_of_number[middle+1:end+1]\n",
    "    \n",
    "    i = j = 0     \n",
    "    k = start\n",
    "    \n",
    "    while i < len(left_side) and j < len(right_side):\n",
    "        if left_side[i] < right_side[j]:\n",
    "            array_of_number[k] = left_side[i]\n",
    "            i += 1\n",
    "        else:\n",
    "            array_of_number[k] = right_side[j]\n",
    "            j += 1\n",
    "        k += 1\n",
    "\n",
    "    while i < len(left_side):        \n",
    "        array_of_number[k] = left_side[i]\n",
    "        i += 1\n",
    "        k += 1\n",
    "            \n",
    "    while j < len(right_side):\n",
    "        array_of_number[k] = right_side[j]\n",
    "        j += 1\n",
    "        k += 1"
   ]
  },
  {
   "cell_type": "code",
   "execution_count": 5,
   "metadata": {},
   "outputs": [
    {
     "name": "stdout",
     "output_type": "stream",
     "text": [
      "[1, 2, 3, 4, 5, 7]\n"
     ]
    }
   ],
   "source": [
    "array_of_number = [7, 2, 4, 1, 5, 3]\n",
    "print(merge_sort(array_of_number))"
   ]
  }
 ],
 "metadata": {
  "kernelspec": {
   "display_name": "Python 3",
   "language": "python",
   "name": "python3"
  },
  "language_info": {
   "codemirror_mode": {
    "name": "ipython",
    "version": 3
   },
   "file_extension": ".py",
   "mimetype": "text/x-python",
   "name": "python",
   "nbconvert_exporter": "python",
   "pygments_lexer": "ipython3",
   "version": "3.7.3"
  }
 },
 "nbformat": 4,
 "nbformat_minor": 2
}
