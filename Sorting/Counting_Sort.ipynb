{
 "cells": [
  {
   "cell_type": "code",
   "execution_count": 1,
   "metadata": {},
   "outputs": [],
   "source": [
    "# Title           : Counting Sort\n",
    "# Created By      : Daivalentineno Janitra Salim\n",
    "# Created In      : Taiwan\n",
    "# Created On      : 19th September 2020 13:30 (GMT+8)\n",
    "# Last Updated By : -\n",
    "# Last Updated In : -\n",
    "# Last Updated On : -"
   ]
  },
  {
   "cell_type": "code",
   "execution_count": 2,
   "metadata": {},
   "outputs": [],
   "source": [
    "def counting_sort(array_of_number):\n",
    "    sorted_array_of_number = [0 for i in range(len(array_of_number))]\n",
    "    count_array_of_number = [0 for i in range(max(array_of_number)+1)]\n",
    "    \n",
    "    for i in array_of_number: \n",
    "        count_array_of_number[i] += 1 \n",
    "    \n",
    "    for i in range (len(count_array_of_number) - 1): \n",
    "        count_array_of_number[i+1] += count_array_of_number[i]\n",
    "    \n",
    "    for i in range (len(count_array_of_number) - 1, 0 ,-1): \n",
    "        count_array_of_number[i] = count_array_of_number[i-1]\n",
    "    count_array_of_number[0] = 0\n",
    "    \n",
    "    for i in range (len(array_of_number)): \n",
    "        index_sorted = count_array_of_number[array_of_number[i]]\n",
    "        count_array_of_number[array_of_number[i]] += 1\n",
    "        sorted_array_of_number[index_sorted] = array_of_number[i]\n",
    "       \n",
    "    return sorted_array_of_number"
   ]
  },
  {
   "cell_type": "code",
   "execution_count": 3,
   "metadata": {},
   "outputs": [
    {
     "name": "stdout",
     "output_type": "stream",
     "text": [
      "[1, 2, 4, 5, 7]\n"
     ]
    }
   ],
   "source": [
    "array_of_number = [7, 2, 4, 1, 5]\n",
    "print(counting_sort(array_of_number))"
   ]
  }
 ],
 "metadata": {
  "kernelspec": {
   "display_name": "Python 3",
   "language": "python",
   "name": "python3"
  },
  "language_info": {
   "codemirror_mode": {
    "name": "ipython",
    "version": 3
   },
   "file_extension": ".py",
   "mimetype": "text/x-python",
   "name": "python",
   "nbconvert_exporter": "python",
   "pygments_lexer": "ipython3",
   "version": "3.7.3"
  }
 },
 "nbformat": 4,
 "nbformat_minor": 2
}
