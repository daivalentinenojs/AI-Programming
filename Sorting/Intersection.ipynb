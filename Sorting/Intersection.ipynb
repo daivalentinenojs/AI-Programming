{
 "cells": [
  {
   "cell_type": "code",
   "execution_count": 1,
   "metadata": {},
   "outputs": [],
   "source": [
    "# Title           : Intersection\n",
    "# Created By      : Daivalentineno Janitra Salim\n",
    "# Created In      : Taiwan\n",
    "# Created On      : 25th September 2020 21:30 (GMT+8)\n",
    "# Last Updated By : -\n",
    "# Last Updated In : -\n",
    "# Last Updated On : -"
   ]
  },
  {
   "cell_type": "code",
   "execution_count": 2,
   "metadata": {},
   "outputs": [],
   "source": [
    "def intersection(array_a, array_b):\n",
    "    array_a = sorted(array_a)\n",
    "    array_b = sorted(array_b)\n",
    "    intersection = []\n",
    "        \n",
    "    i = 0\n",
    "    j = 0\n",
    "    print(\"Array A =\", array_a)\n",
    "    print(\"Array B =\", array_b)\n",
    "    \n",
    "    while i < len(array_a) and j < len(array_b): \n",
    "        if array_a[i] == array_b[j]:\n",
    "            if array_a[i] != array_a[i-1]:\n",
    "                intersection.append(array_a[i])\n",
    "            i += 1\n",
    "            j += 1\n",
    "        elif array_a[i] < array_b[j]:\n",
    "            i += 1   \n",
    "        else:\n",
    "            j += 1\n",
    "    return intersection"
   ]
  },
  {
   "cell_type": "code",
   "execution_count": 3,
   "metadata": {},
   "outputs": [
    {
     "name": "stdout",
     "output_type": "stream",
     "text": [
      "Array A = [1, 2, 3, 3, 5, 7, 8, 10, 20]\n",
      "Array B = [2, 3, 3, 5, 7, 8, 11, 15, 17, 20]\n",
      "Intersection = [2, 3, 5, 7, 8, 20]\n"
     ]
    }
   ],
   "source": [
    "array_a = [3, 5, 2, 3, 1, 7, 10, 8, 20]\n",
    "array_b = [8, 7, 3, 3, 2, 5, 11, 15, 17, 20]\n",
    "print(\"Intersection =\", intersection(array_a, array_b))"
   ]
  }
 ],
 "metadata": {
  "kernelspec": {
   "display_name": "Python 3",
   "language": "python",
   "name": "python3"
  },
  "language_info": {
   "codemirror_mode": {
    "name": "ipython",
    "version": 3
   },
   "file_extension": ".py",
   "mimetype": "text/x-python",
   "name": "python",
   "nbconvert_exporter": "python",
   "pygments_lexer": "ipython3",
   "version": "3.7.3"
  }
 },
 "nbformat": 4,
 "nbformat_minor": 2
}
