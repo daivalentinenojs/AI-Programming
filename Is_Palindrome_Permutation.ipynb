{
 "cells": [
  {
   "cell_type": "code",
   "execution_count": 1,
   "metadata": {},
   "outputs": [],
   "source": [
    "# Title           : Is Palindrome Permutation\n",
    "# Created By      : Daivalentineno Janitra Salim\n",
    "# Created In      : Taiwan\n",
    "# Created On      : 21th September 2020 21:00 (GMT+8)\n",
    "# Last Updated By : -\n",
    "# Last Updated In : -\n",
    "# Last Updated On : -"
   ]
  },
  {
   "cell_type": "code",
   "execution_count": 2,
   "metadata": {},
   "outputs": [],
   "source": [
    "def is_palindrome_permutation(string_value):\n",
    "    punctuations = '!()-[]{};:\\'\\\"\\,<>./?@#$%^&*_~'\n",
    "    \n",
    "    new_string_value = ''\n",
    "    for char in string_value:\n",
    "        if char not in punctuations:\n",
    "            new_string_value += char        \n",
    "    string_value = new_string_value.replace(\" \", \"\").lower()\n",
    "    \n",
    "    dict_count = dict()\n",
    "    \n",
    "    for i in string_value:\n",
    "        if i in dict_count:\n",
    "            dict_count[i] += 1\n",
    "        else:\n",
    "            dict_count[i] = 1\n",
    "    \n",
    "    odd_count = 0\n",
    "    for character, count in dict_count.items():\n",
    "        if count % 2 != 0 and odd_count == 0:\n",
    "            odd_count += 1\n",
    "        elif count % 2 != 0 and odd_count != 0:\n",
    "            return 'Is Not Palindrome Permutation'\n",
    "    return 'Is Palindrome Permutation'"
   ]
  },
  {
   "cell_type": "code",
   "execution_count": 3,
   "metadata": {},
   "outputs": [
    {
     "name": "stdout",
     "output_type": "stream",
     "text": [
      "Is Palindrome Permutation\n"
     ]
    }
   ],
   "source": [
    "string_value = 'Taco Cat'\n",
    "print(is_palindrome_permutation(string_value))"
   ]
  }
 ],
 "metadata": {
  "kernelspec": {
   "display_name": "Python 3",
   "language": "python",
   "name": "python3"
  },
  "language_info": {
   "codemirror_mode": {
    "name": "ipython",
    "version": 3
   },
   "file_extension": ".py",
   "mimetype": "text/x-python",
   "name": "python",
   "nbconvert_exporter": "python",
   "pygments_lexer": "ipython3",
   "version": "3.7.3"
  }
 },
 "nbformat": 4,
 "nbformat_minor": 2
}
