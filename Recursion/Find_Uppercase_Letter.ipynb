{
 "cells": [
  {
   "cell_type": "code",
   "execution_count": 1,
   "metadata": {},
   "outputs": [],
   "source": [
    "# Title           : Find Uppercase Letter\n",
    "# Created By      : Daivalentineno Janitra Salim\n",
    "# Created In      : Taiwan\n",
    "# Created On      : 26th September 2020 13:00 (GMT+8)\n",
    "# Last Updated By : -\n",
    "# Last Updated In : -\n",
    "# Last Updated On : -"
   ]
  },
  {
   "cell_type": "code",
   "execution_count": 2,
   "metadata": {},
   "outputs": [],
   "source": [
    "def find_uppercase_letter(input_string, idx=0):\n",
    "    if input_string[idx].isupper():\n",
    "        return input_string[idx]\n",
    "    if idx == len(input_string)-1:\n",
    "        return \"There is no uppercase character found\"\n",
    "    return find_uppercase_letter(input_string, idx+1)"
   ]
  },
  {
   "cell_type": "code",
   "execution_count": 3,
   "metadata": {},
   "outputs": [
    {
     "name": "stdout",
     "output_type": "stream",
     "text": [
      "First uppercase letter on string below are\n",
      "Daivalentineno Janitra Salim = D\n",
      "DAIVALENTINENO JANITRA SALIM = D\n",
      "daivalentineno janitra salim = There is no uppercase character found\n",
      "daivalentineno Janitra salim = J\n",
      "daivalentineno janitra Salim = S\n"
     ]
    }
   ],
   "source": [
    "input_string_1 = \"Daivalentineno Janitra Salim\" \n",
    "input_string_2 = \"DAIVALENTINENO JANITRA SALIM\"\n",
    "input_string_3 = \"daivalentineno janitra salim\"\n",
    "input_string_4 = \"daivalentineno Janitra salim\"\n",
    "input_string_5 = \"daivalentineno janitra Salim\"\n",
    "print(\"First uppercase letter on string below are\")\n",
    "print(input_string_1, \"=\", find_uppercase_letter(input_string_1, idx=0))\n",
    "print(input_string_2, \"=\", find_uppercase_letter(input_string_2, idx=0))\n",
    "print(input_string_3, \"=\", find_uppercase_letter(input_string_3, idx=0))\n",
    "print(input_string_4, \"=\", find_uppercase_letter(input_string_4, idx=0))\n",
    "print(input_string_5, \"=\", find_uppercase_letter(input_string_5, idx=0))"
   ]
  }
 ],
 "metadata": {
  "kernelspec": {
   "display_name": "Python 3",
   "language": "python",
   "name": "python3"
  },
  "language_info": {
   "codemirror_mode": {
    "name": "ipython",
    "version": 3
   },
   "file_extension": ".py",
   "mimetype": "text/x-python",
   "name": "python",
   "nbconvert_exporter": "python",
   "pygments_lexer": "ipython3",
   "version": "3.7.3"
  }
 },
 "nbformat": 4,
 "nbformat_minor": 2
}
