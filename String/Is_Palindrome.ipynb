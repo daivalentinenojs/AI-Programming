{
 "cells": [
  {
   "cell_type": "code",
   "execution_count": 1,
   "metadata": {},
   "outputs": [],
   "source": [
    "# Title           : Is Palindrome\n",
    "# Created By      : Daivalentineno Janitra Salim\n",
    "# Created In      : Taiwan\n",
    "# Created On      : 21th September 2020 20:00 (GMT+8)\n",
    "# Last Updated By : -\n",
    "# Last Updated In : -\n",
    "# Last Updated On : -"
   ]
  },
  {
   "cell_type": "code",
   "execution_count": 2,
   "metadata": {},
   "outputs": [],
   "source": [
    "def is_palindrome(string_value):\n",
    "    string_value = string_value.replace(\" \", \"\").lower()\n",
    "    \n",
    "    for i in range (len(string_value) // 2):\n",
    "        if string_value[i] != string_value[len(string_value)-i-1]:\n",
    "            return 'Is Not Palindrome'\n",
    "    return 'Is Palindrome'"
   ]
  },
  {
   "cell_type": "code",
   "execution_count": 3,
   "metadata": {},
   "outputs": [
    {
     "name": "stdout",
     "output_type": "stream",
     "text": [
      "Is Palindrome\n"
     ]
    }
   ],
   "source": [
    "string_value = 'Pull up If I pull up'\n",
    "print(is_palindrome(string_value))"
   ]
  }
 ],
 "metadata": {
  "kernelspec": {
   "display_name": "Python 3",
   "language": "python",
   "name": "python3"
  },
  "language_info": {
   "codemirror_mode": {
    "name": "ipython",
    "version": 3
   },
   "file_extension": ".py",
   "mimetype": "text/x-python",
   "name": "python",
   "nbconvert_exporter": "python",
   "pygments_lexer": "ipython3",
   "version": "3.7.3"
  }
 },
 "nbformat": 4,
 "nbformat_minor": 2
}
