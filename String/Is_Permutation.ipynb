{
 "cells": [
  {
   "cell_type": "code",
   "execution_count": 1,
   "metadata": {},
   "outputs": [],
   "source": [
    "# Title           : Is Permutation\n",
    "# Created By      : Daivalentineno Janitra Salim\n",
    "# Created In      : Taiwan\n",
    "# Created On      : 22th September 2020 10:00 (GMT+8)\n",
    "# Last Updated By : -\n",
    "# Last Updated In : -\n",
    "# Last Updated On : -"
   ]
  },
  {
   "cell_type": "code",
   "execution_count": 2,
   "metadata": {},
   "outputs": [],
   "source": [
    "def is_permutation(string_1, string_2):\n",
    "    punctuations = '!()-[]{};:\\'\\\"\\,<>./?@#$%^&*_~'\n",
    "    \n",
    "    new_string_1 = ''\n",
    "    for char in string_1:\n",
    "        if char not in punctuations:\n",
    "            new_string_1 += char        \n",
    "    string_1 = new_string_1.replace(\" \", \"\").lower()\n",
    "    \n",
    "    new_string_2 = ''\n",
    "    for char in string_2:\n",
    "        if char not in punctuations:\n",
    "            new_string_2 += char        \n",
    "    string_2 = new_string_2.replace(\" \", \"\").lower()\n",
    "    \n",
    "    dict_count = dict()\n",
    "    \n",
    "    if len(string_1) != len(string_2):\n",
    "        return 'Is Not Permutation'\n",
    "    \n",
    "    for i in string_1:\n",
    "        if i in dict_count:\n",
    "            dict_count[i] += 1\n",
    "        else:\n",
    "            dict_count[i] = 1\n",
    "    \n",
    "    for i in string_2:\n",
    "        if i in dict_count:\n",
    "            dict_count[i] -= 1\n",
    "        else:\n",
    "            dict_count[i] = 1\n",
    "    \n",
    "    for i in dict_count:\n",
    "        if dict_count[i] >= 1:\n",
    "            return 'Is Not Permutation'      \n",
    "    return 'Is Permutation'"
   ]
  },
  {
   "cell_type": "code",
   "execution_count": 3,
   "metadata": {},
   "outputs": [
    {
     "name": "stdout",
     "output_type": "stream",
     "text": [
      "Is Permutation\n"
     ]
    }
   ],
   "source": [
    "string_1 = 'God'\n",
    "string_2 = 'Dog'\n",
    "print(is_permutation(string_1, string_2))"
   ]
  }
 ],
 "metadata": {
  "kernelspec": {
   "display_name": "Python 3",
   "language": "python",
   "name": "python3"
  },
  "language_info": {
   "codemirror_mode": {
    "name": "ipython",
    "version": 3
   },
   "file_extension": ".py",
   "mimetype": "text/x-python",
   "name": "python",
   "nbconvert_exporter": "python",
   "pygments_lexer": "ipython3",
   "version": "3.7.3"
  }
 },
 "nbformat": 4,
 "nbformat_minor": 2
}
