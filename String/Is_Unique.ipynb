{
 "cells": [
  {
   "cell_type": "code",
   "execution_count": 1,
   "metadata": {},
   "outputs": [],
   "source": [
    "# Title           : Is Unique\n",
    "# Created By      : Daivalentineno Janitra Salim\n",
    "# Created In      : Taiwan\n",
    "# Created On      : 22th September 2020 10:00 (GMT+8)\n",
    "# Last Updated By : -\n",
    "# Last Updated In : -\n",
    "# Last Updated On : -"
   ]
  },
  {
   "cell_type": "code",
   "execution_count": 2,
   "metadata": {},
   "outputs": [],
   "source": [
    "def is_unique(string_value):\n",
    "    punctuations = '!()-[]{};:\\'\\\"\\,<>./?@#$%^&*_~'\n",
    "    \n",
    "    new_string_value = ''\n",
    "    for char in string_value:\n",
    "        if char not in punctuations:\n",
    "            new_string_value += char        \n",
    "    string_value = new_string_value.replace(\" \", \"\").lower()\n",
    "      \n",
    "    if len(set(string_value)) == len(string_value):\n",
    "        return 'Is Unique'\n",
    "    else:\n",
    "        return 'Is Not Unique'"
   ]
  },
  {
   "cell_type": "code",
   "execution_count": 3,
   "metadata": {},
   "outputs": [
    {
     "name": "stdout",
     "output_type": "stream",
     "text": [
      "Is Unique\n"
     ]
    }
   ],
   "source": [
    "string_value = 'AbCdEfG'\n",
    "print(is_unique(string_value))"
   ]
  }
 ],
 "metadata": {
  "kernelspec": {
   "display_name": "Python 3",
   "language": "python",
   "name": "python3"
  },
  "language_info": {
   "codemirror_mode": {
    "name": "ipython",
    "version": 3
   },
   "file_extension": ".py",
   "mimetype": "text/x-python",
   "name": "python",
   "nbconvert_exporter": "python",
   "pygments_lexer": "ipython3",
   "version": "3.7.3"
  }
 },
 "nbformat": 4,
 "nbformat_minor": 2
}
