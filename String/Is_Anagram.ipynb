{
 "cells": [
  {
   "cell_type": "code",
   "execution_count": 1,
   "metadata": {},
   "outputs": [],
   "source": [
    "# Title           : Is Anagram\n",
    "# Created By      : Daivalentineno Janitra Salim\n",
    "# Created In      : Taiwan\n",
    "# Created On      : 21th September 2020 20:20 (GMT+8)\n",
    "# Last Updated By : -\n",
    "# Last Updated In : -\n",
    "# Last Updated On : -"
   ]
  },
  {
   "cell_type": "code",
   "execution_count": 2,
   "metadata": {},
   "outputs": [],
   "source": [
    "def is_anagram(string_1, string_2):\n",
    "    punctuations = '!()-[]{};:\\'\\\"\\,<>./?@#$%^&*_~'\n",
    "    \n",
    "    new_string_1 = ''\n",
    "    for char in string_1:\n",
    "        if char not in punctuations:\n",
    "            new_string_1 += char        \n",
    "    string_1 = new_string_1.replace(\" \", \"\").lower()\n",
    "    \n",
    "    new_string_2 = ''\n",
    "    for char in string_2:\n",
    "        if char not in punctuations:\n",
    "            new_string_2 += char        \n",
    "    string_2 = new_string_2.replace(\" \", \"\").lower()\n",
    "    \n",
    "    dict_count = dict()\n",
    "    \n",
    "    if len(string_1) != len(string_2):\n",
    "        return 'Is Not Anagram'\n",
    "    \n",
    "    for i in string_1:\n",
    "        if i in dict_count:\n",
    "            dict_count[i] += 1\n",
    "        else:\n",
    "            dict_count[i] = 1\n",
    "    \n",
    "    for i in string_2:\n",
    "        if i in dict_count:\n",
    "            dict_count[i] -= 1\n",
    "        else:\n",
    "            dict_count[i] = 1\n",
    "    \n",
    "    for i in dict_count:\n",
    "        if dict_count[i] >= 1:\n",
    "            return 'Is Not Anagram'      \n",
    "    return 'Is Anagram'"
   ]
  },
  {
   "cell_type": "code",
   "execution_count": 3,
   "metadata": {},
   "outputs": [
    {
     "name": "stdout",
     "output_type": "stream",
     "text": [
      "Is Anagram\n"
     ]
    }
   ],
   "source": [
    "string_1 = 'Zinedine Zidane gets a red card in the World Cup Final'\n",
    "string_2 = 'Italian wins, French cried, and legend Zizou Departed'\n",
    "print(is_anagram(string_1, string_2))"
   ]
  }
 ],
 "metadata": {
  "kernelspec": {
   "display_name": "Python 3",
   "language": "python",
   "name": "python3"
  },
  "language_info": {
   "codemirror_mode": {
    "name": "ipython",
    "version": 3
   },
   "file_extension": ".py",
   "mimetype": "text/x-python",
   "name": "python",
   "nbconvert_exporter": "python",
   "pygments_lexer": "ipython3",
   "version": "3.7.3"
  }
 },
 "nbformat": 4,
 "nbformat_minor": 2
}
