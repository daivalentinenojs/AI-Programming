{
 "cells": [
  {
   "cell_type": "code",
   "execution_count": null,
   "metadata": {},
   "outputs": [],
   "source": [
    "# Title           : Recursive Binary Search\n",
    "# Created By      : Daivalentineno Janitra Salim\n",
    "# Created In      : Taiwan\n",
    "# Created On      : 20th September 2020 22:25 (GMT+8)\n",
    "# Last Updated By : -\n",
    "# Last Updated In : -\n",
    "# Last Updated On : -"
   ]
  },
  {
   "cell_type": "code",
   "execution_count": null,
   "metadata": {},
   "outputs": [],
   "source": [
    "def recursive_binary_search(array_of_number, value, start, end):\n",
    "    middle = (start + end) // 2\n",
    "    \n",
    "    if start > end or middle >= len(array_of_number):\n",
    "        return False\n",
    "    else:        \n",
    "        if array_of_number[middle] == value:\n",
    "            return True\n",
    "        elif array_of_number[middle] < value:\n",
    "            return recursive_binary_search(array_of_number, value, middle + 1, end)\n",
    "        else:\n",
    "            return recursive_binary_search(array_of_number, value, start, middle - 1)"
   ]
  },
  {
   "cell_type": "code",
   "execution_count": null,
   "metadata": {},
   "outputs": [],
   "source": [
    "array_of_number = [1, 2, 3, 5, 7, 9, 11, 13, 15, 17, 19, 20]\n",
    "value = 11\n",
    "print (recursive_binary_search(array_of_number, value, 0, len(array_of_number)))"
   ]
  },
  {
   "cell_type": "code",
   "execution_count": null,
   "metadata": {},
   "outputs": [],
   "source": []
  }
 ],
 "metadata": {
  "kernelspec": {
   "display_name": "Python 3",
   "language": "python",
   "name": "python3"
  },
  "language_info": {
   "codemirror_mode": {
    "name": "ipython",
    "version": 3
   },
   "file_extension": ".py",
   "mimetype": "text/x-python",
   "name": "python",
   "nbconvert_exporter": "python",
   "pygments_lexer": "ipython3",
   "version": "3.7.3"
  }
 },
 "nbformat": 4,
 "nbformat_minor": 2
}
