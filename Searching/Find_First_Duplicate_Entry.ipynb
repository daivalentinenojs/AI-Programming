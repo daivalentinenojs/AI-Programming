{
 "cells": [
  {
   "cell_type": "code",
   "execution_count": 1,
   "metadata": {},
   "outputs": [],
   "source": [
    "# Title           : Find First Duplicate Entry\n",
    "# Created By      : Daivalentineno Janitra Salim\n",
    "# Created In      : Taiwan\n",
    "# Created On      : 24th September 2020 12:00 (GMT+8)\n",
    "# Last Updated By : -\n",
    "# Last Updated In : -\n",
    "# Last Updated On : -"
   ]
  },
  {
   "cell_type": "code",
   "execution_count": 2,
   "metadata": {},
   "outputs": [],
   "source": [
    "def find_first_duplicate_entry(array_of_number, target_number):\n",
    "    start = 0\n",
    "    end = len(array_of_number) - 1\n",
    "    \n",
    "    if len(array_of_number) == 0:\n",
    "        return 'Array is empty'\n",
    "    if len(array_of_number) < 2:\n",
    "        return 'There is Duplicate Entry'\n",
    "            \n",
    "    while start <= end:\n",
    "        middle = (start + end) // 2\n",
    "        \n",
    "        if array_of_number[middle] < target_number:\n",
    "            start = middle + 1  \n",
    "        elif array_of_number[middle] > target_number:\n",
    "            end = middle - 1\n",
    "        else:\n",
    "            if middle >= len(array_of_number) - 1:\n",
    "                return 'There is no Duplicate Entry'\n",
    "            \n",
    "            if middle - 1 < 0 and array_of_number[middle + 1] == target_number:\n",
    "                return middle\n",
    "            \n",
    "            if array_of_number[middle - 1] != target_number and array_of_number[middle + 1] == target_number:\n",
    "                return middle\n",
    "            \n",
    "            end = middle - 1\n",
    "    return 'There is no Duplicate Entry'"
   ]
  },
  {
   "cell_type": "code",
   "execution_count": 3,
   "metadata": {},
   "outputs": [
    {
     "name": "stdout",
     "output_type": "stream",
     "text": [
      "1\n"
     ]
    }
   ],
   "source": [
    "array_of_number = [1, 3, 3, 3, 5, 6, 7, 7, 8]\n",
    "target_number = 3\n",
    "print (find_first_duplicate_entry(array_of_number, target_number))"
   ]
  }
 ],
 "metadata": {
  "kernelspec": {
   "display_name": "Python 3",
   "language": "python",
   "name": "python3"
  },
  "language_info": {
   "codemirror_mode": {
    "name": "ipython",
    "version": 3
   },
   "file_extension": ".py",
   "mimetype": "text/x-python",
   "name": "python",
   "nbconvert_exporter": "python",
   "pygments_lexer": "ipython3",
   "version": "3.7.3"
  }
 },
 "nbformat": 4,
 "nbformat_minor": 2
}
