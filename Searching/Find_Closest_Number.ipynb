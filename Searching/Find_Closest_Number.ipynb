{
 "cells": [
  {
   "cell_type": "code",
   "execution_count": 1,
   "metadata": {},
   "outputs": [],
   "source": [
    "# Title           : Find Closest Number\n",
    "# Created By      : Daivalentineno Janitra Salim\n",
    "# Created In      : Taiwan\n",
    "# Created On      : 22th September 2020 17:15 (GMT+8)\n",
    "# Last Updated By : -\n",
    "# Last Updated In : -\n",
    "# Last Updated On : -"
   ]
  },
  {
   "cell_type": "code",
   "execution_count": 2,
   "metadata": {},
   "outputs": [],
   "source": [
    "def find_closest_number(array_of_number, target_number):\n",
    "    minimum_difference = float(\"inf\")\n",
    "    closest_number = 0\n",
    "    start = 0\n",
    "    end = len(array_of_number) - 1    \n",
    "    \n",
    "    if len(array_of_number) == 0:\n",
    "        return 'Array is empty'\n",
    "    if len(array_of_number) == 1:\n",
    "        return array_of_number[0]\n",
    "            \n",
    "    while start <= end:\n",
    "        middle = (start + end) // 2\n",
    "        \n",
    "        if (middle + 1) < len(array_of_number):\n",
    "            right_min_dif = abs(array_of_number[middle + 1] - target_number)\n",
    "            if right_min_dif < minimum_difference:\n",
    "                minimum_difference = right_min_dif\n",
    "                closest_number = array_of_number[middle + 1]\n",
    "                \n",
    "        if (middle - 1) >= 0:\n",
    "            left_min_dif = abs(array_of_number[middle - 1] - target_number)\n",
    "            if left_min_dif < minimum_difference:\n",
    "                minimum_difference = left_min_dif\n",
    "                closest_number = array_of_number[middle - 1]\n",
    "        \n",
    "        if left_min_dif <= right_min_dif:\n",
    "            end = middle - 1\n",
    "        else:\n",
    "            start = middle + 1\n",
    "    \n",
    "    return closest_number"
   ]
  },
  {
   "cell_type": "code",
   "execution_count": 3,
   "metadata": {},
   "outputs": [
    {
     "name": "stdout",
     "output_type": "stream",
     "text": [
      "10\n"
     ]
    }
   ],
   "source": [
    "array_of_number = [1, 2, 3, 5, 6, 7, 10, 11]\n",
    "target_number = 9\n",
    "print (find_closest_number(array_of_number, target_number))"
   ]
  }
 ],
 "metadata": {
  "kernelspec": {
   "display_name": "Python 3",
   "language": "python",
   "name": "python3"
  },
  "language_info": {
   "codemirror_mode": {
    "name": "ipython",
    "version": 3
   },
   "file_extension": ".py",
   "mimetype": "text/x-python",
   "name": "python",
   "nbconvert_exporter": "python",
   "pygments_lexer": "ipython3",
   "version": "3.7.3"
  }
 },
 "nbformat": 4,
 "nbformat_minor": 2
}
