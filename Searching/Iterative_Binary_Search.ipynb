{
 "cells": [
  {
   "cell_type": "code",
   "execution_count": 1,
   "metadata": {},
   "outputs": [],
   "source": [
    "# Title           : Iterative Binary Search\n",
    "# Created By      : Daivalentineno Janitra Salim\n",
    "# Created In      : Taiwan\n",
    "# Created On      : 20th September 2020 22:15 (GMT+8)\n",
    "# Last Updated By : -\n",
    "# Last Updated In : -\n",
    "# Last Updated On : -"
   ]
  },
  {
   "cell_type": "code",
   "execution_count": 2,
   "metadata": {},
   "outputs": [],
   "source": [
    "def iterative_binary_search(array_of_number, value):\n",
    "    start = 0\n",
    "    end = len(array_of_number) - 1\n",
    "    \n",
    "    while start <= end :\n",
    "        middle = (start + end) // 2\n",
    "        if array_of_number[middle] == value:\n",
    "            return True\n",
    "        elif array_of_number[middle] < value:\n",
    "            start = middle + 1\n",
    "        else:\n",
    "            end = middle - 1\n",
    "    return False"
   ]
  },
  {
   "cell_type": "code",
   "execution_count": 3,
   "metadata": {},
   "outputs": [
    {
     "name": "stdout",
     "output_type": "stream",
     "text": [
      "True\n"
     ]
    }
   ],
   "source": [
    "array_of_number = [1, 2, 3, 5, 7, 9, 11, 13, 15, 17, 19, 20]\n",
    "value = 11\n",
    "print (iterative_binary_search(array_of_number, value))"
   ]
  }
 ],
 "metadata": {
  "kernelspec": {
   "display_name": "Python 3",
   "language": "python",
   "name": "python3"
  },
  "language_info": {
   "codemirror_mode": {
    "name": "ipython",
    "version": 3
   },
   "file_extension": ".py",
   "mimetype": "text/x-python",
   "name": "python",
   "nbconvert_exporter": "python",
   "pygments_lexer": "ipython3",
   "version": "3.7.3"
  }
 },
 "nbformat": 4,
 "nbformat_minor": 2
}
