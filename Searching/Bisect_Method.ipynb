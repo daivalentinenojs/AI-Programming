{
 "cells": [
  {
   "cell_type": "code",
   "execution_count": 1,
   "metadata": {},
   "outputs": [],
   "source": [
    "# Title           : Bisect Method\n",
    "# Created By      : Daivalentineno Janitra Salim\n",
    "# Created In      : Taiwan\n",
    "# Created On      : 25th September 2020 15:55 (GMT+8)\n",
    "# Last Updated By : -\n",
    "# Last Updated In : -\n",
    "# Last Updated On : -"
   ]
  },
  {
   "cell_type": "code",
   "execution_count": 2,
   "metadata": {},
   "outputs": [],
   "source": [
    "import bisect"
   ]
  },
  {
   "cell_type": "code",
   "execution_count": 3,
   "metadata": {},
   "outputs": [],
   "source": [
    "def bisect_method(array_of_number, target_number):\n",
    "    print('Bisect Left is used to find the first index of target number')\n",
    "    print('Bisect Left  = ', bisect.bisect_left(array_of_number, target_number))\n",
    "    print()\n",
    "    print('Bisect Right is used to find the insertion point or index after the target number')\n",
    "    print('Bisect Right = ', bisect.bisect_right(array_of_number, target_number))\n",
    "    print()\n",
    "    print('The function of bisect is same like Bisect Right')\n",
    "    print('Bisect       = ', bisect.bisect(array_of_number, target_number))\n",
    "    print()\n",
    "    print('Array of Number     = ', array_of_number)\n",
    "    print()\n",
    "    bisect.insort_left(array_of_number, target_number)\n",
    "    print('Bisect Insort Left  = Insert ', target_number,' from left of the target number ', target_number, ', so')\n",
    "    print('The array of number will be changed from above into ', array_of_number)\n",
    "    print()\n",
    "    print('Array of Number     = ', array_of_number)\n",
    "    print()\n",
    "    bisect.insort_right(array_of_number, target_number)\n",
    "    print('Bisect Insort Right = Insert ', target_number,' from right of the target number ', target_number, ', so')\n",
    "    print('The array of number will be changed from above into ', array_of_number)"
   ]
  },
  {
   "cell_type": "code",
   "execution_count": 4,
   "metadata": {},
   "outputs": [
    {
     "name": "stdout",
     "output_type": "stream",
     "text": [
      "Bisect Left is used to find the first index of target number\n",
      "Bisect Left  =  3\n",
      "\n",
      "Bisect Right is used to find the insertion point or index after the target number\n",
      "Bisect Right =  5\n",
      "\n",
      "The function of bisect is same like Bisect Right\n",
      "Bisect       =  5\n",
      "\n",
      "Array of Number     =  [1, 2, 3, 5, 5, 7, 7, 8, 8, 8, 10]\n",
      "\n",
      "Bisect Insort Left  = Insert  5  from left of the target number  5 , so\n",
      "The array of number will be changed from above into  [1, 2, 3, 5, 5, 5, 7, 7, 8, 8, 8, 10]\n",
      "\n",
      "Array of Number     =  [1, 2, 3, 5, 5, 5, 7, 7, 8, 8, 8, 10]\n",
      "\n",
      "Bisect Insort Right = Insert  5  from right of the target number  5 , so\n",
      "The array of number will be changed from above into  [1, 2, 3, 5, 5, 5, 5, 7, 7, 8, 8, 8, 10]\n"
     ]
    }
   ],
   "source": [
    "array_of_number = [1, 2, 3, 5, 5, 7, 7, 8, 8, 8, 10]\n",
    "target_number = 5\n",
    "bisect_method(array_of_number, target_number)"
   ]
  }
 ],
 "metadata": {
  "kernelspec": {
   "display_name": "Python 3",
   "language": "python",
   "name": "python3"
  },
  "language_info": {
   "codemirror_mode": {
    "name": "ipython",
    "version": 3
   },
   "file_extension": ".py",
   "mimetype": "text/x-python",
   "name": "python",
   "nbconvert_exporter": "python",
   "pygments_lexer": "ipython3",
   "version": "3.7.3"
  }
 },
 "nbformat": 4,
 "nbformat_minor": 2
}
