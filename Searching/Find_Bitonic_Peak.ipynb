{
 "cells": [
  {
   "cell_type": "code",
   "execution_count": 1,
   "metadata": {},
   "outputs": [],
   "source": [
    "# Title           : Find Bitonic Peak\n",
    "# Created By      : Daivalentineno Janitra Salim\n",
    "# Created In      : Taiwan\n",
    "# Created On      : 24th September 2020 11:00 (GMT+8)\n",
    "# Last Updated By : -\n",
    "# Last Updated In : -\n",
    "# Last Updated On : -"
   ]
  },
  {
   "cell_type": "code",
   "execution_count": 2,
   "metadata": {},
   "outputs": [],
   "source": [
    "def find_bitonic_peak(array_of_number):\n",
    "    start = 0\n",
    "    end = len(array_of_number) - 1\n",
    "    \n",
    "    if len(array_of_number) == 0:\n",
    "        return 'Array is empty'\n",
    "    if len(array_of_number) < 3:\n",
    "        return 'There is no Bitonic Peak Number'\n",
    "            \n",
    "    while start <= end:\n",
    "        middle = (start + end) // 2\n",
    "        \n",
    "        if middle - 1 >= 0:\n",
    "            middle_left = array_of_number[middle - 1]\n",
    "        else:\n",
    "            middle_left = float(\"inf\")\n",
    "            \n",
    "        if middle + 1 < len(array_of_number):\n",
    "            middle_right = array_of_number[middle + 1]\n",
    "        else:\n",
    "            middle_right = float(\"inf\")     \n",
    "        \n",
    "        if middle_right > array_of_number[middle] and array_of_number[middle] > middle_left:\n",
    "            start = middle + 1\n",
    "        elif middle_right < array_of_number[middle] and array_of_number[middle] < middle_left:\n",
    "            end = middle - 1\n",
    "                    \n",
    "        if middle_left < array_of_number[middle] and middle_right < array_of_number[middle]:            \n",
    "            return array_of_number[middle]   \n",
    "    return 'There is no Bitonic Peak Number'"
   ]
  },
  {
   "cell_type": "code",
   "execution_count": 3,
   "metadata": {},
   "outputs": [
    {
     "name": "stdout",
     "output_type": "stream",
     "text": [
      "5\n"
     ]
    }
   ],
   "source": [
    "array_of_number = [1, 2, 3, 5, 3, 1]\n",
    "print (find_bitonic_peak(array_of_number))"
   ]
  }
 ],
 "metadata": {
  "kernelspec": {
   "display_name": "Python 3",
   "language": "python",
   "name": "python3"
  },
  "language_info": {
   "codemirror_mode": {
    "name": "ipython",
    "version": 3
   },
   "file_extension": ".py",
   "mimetype": "text/x-python",
   "name": "python",
   "nbconvert_exporter": "python",
   "pygments_lexer": "ipython3",
   "version": "3.7.3"
  }
 },
 "nbformat": 4,
 "nbformat_minor": 2
}
