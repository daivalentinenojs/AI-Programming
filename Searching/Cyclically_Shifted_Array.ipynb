{
 "cells": [
  {
   "cell_type": "code",
   "execution_count": 1,
   "metadata": {},
   "outputs": [],
   "source": [
    "# Title           : Cyclically Shifted Array\n",
    "# Created By      : Daivalentineno Janitra Salim\n",
    "# Created In      : Taiwan\n",
    "# Created On      : 25th September 2020 17:00 (GMT+8)\n",
    "# Last Updated By : -\n",
    "# Last Updated In : -\n",
    "# Last Updated On : -"
   ]
  },
  {
   "cell_type": "code",
   "execution_count": 2,
   "metadata": {},
   "outputs": [],
   "source": [
    "def cyclically_shifted_array(array_of_number):\n",
    "    start = 0\n",
    "    end = len(array_of_number) - 1    \n",
    "    \n",
    "    counted_flags = 0\n",
    "    flags = None\n",
    "    \n",
    "    while start < end:\n",
    "        middle = (start + end) // 2\n",
    "        \n",
    "        if array_of_number[middle] <= array_of_number[end]:\n",
    "            end = middle\n",
    "            flags = False\n",
    "        elif array_of_number[middle] > array_of_number[end]:\n",
    "            start = middle + 1\n",
    "            flags = True\n",
    "        \n",
    "        if counted_flags == 0:\n",
    "            counted_flags += 1\n",
    "        elif flags_before != flags:\n",
    "            counted_flags += 1        \n",
    "        flags_before = flags\n",
    "\n",
    "    if counted_flags >= 3:\n",
    "        return 'The Array is not Cyclically Shifted Array'\n",
    "    return start"
   ]
  },
  {
   "cell_type": "code",
   "execution_count": 3,
   "metadata": {},
   "outputs": [
    {
     "name": "stdout",
     "output_type": "stream",
     "text": [
      "Index =  2\n",
      "Value =  1\n"
     ]
    }
   ],
   "source": [
    "array_of_number = [9, 10, 1, 2, 3, 4, 5, 6, 7, 8]\n",
    "# array_of_number = [1, 3, 7, 2, 6, 9, 10, 5, 4, 8]\n",
    "index = cyclically_shifted_array(array_of_number)\n",
    "if type(index) == int:    \n",
    "    print (\"Index = \", index)\n",
    "    print (\"Value = \", array_of_number[index])\n",
    "else:\n",
    "    print (index)"
   ]
  }
 ],
 "metadata": {
  "kernelspec": {
   "display_name": "Python 3",
   "language": "python",
   "name": "python3"
  },
  "language_info": {
   "codemirror_mode": {
    "name": "ipython",
    "version": 3
   },
   "file_extension": ".py",
   "mimetype": "text/x-python",
   "name": "python",
   "nbconvert_exporter": "python",
   "pygments_lexer": "ipython3",
   "version": "3.7.3"
  }
 },
 "nbformat": 4,
 "nbformat_minor": 2
}
