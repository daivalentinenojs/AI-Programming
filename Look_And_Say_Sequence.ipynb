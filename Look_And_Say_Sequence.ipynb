{
 "cells": [
  {
   "cell_type": "code",
   "execution_count": 1,
   "metadata": {},
   "outputs": [],
   "source": [
    "# Title           : Look And Say Sequence\n",
    "# Created By      : Daivalentineno Janitra Salim\n",
    "# Created In      : Taiwan\n",
    "# Created On      : 21th September 2020 08:45 (GMT+8)\n",
    "# Last Updated By : -\n",
    "# Last Updated In : -\n",
    "# Last Updated On : -"
   ]
  },
  {
   "cell_type": "code",
   "execution_count": 2,
   "metadata": {},
   "outputs": [],
   "source": [
    "def look_and_say_sequence(string_value):\n",
    "    output_value = ''\n",
    "    i = 0\n",
    "    \n",
    "    while i < len(string_value):\n",
    "        count = 1\n",
    "        while i + 1 < len(string_value) and string_value[i] == string_value[i+1]:\n",
    "            i += 1\n",
    "            count += 1\n",
    "        output_value += str(count) + string_value[i]\n",
    "        i += 1\n",
    "    return output_value"
   ]
  },
  {
   "cell_type": "code",
   "execution_count": 3,
   "metadata": {},
   "outputs": [
    {
     "name": "stdout",
     "output_type": "stream",
     "text": [
      "1\n",
      "11\n",
      "21\n",
      "1211\n"
     ]
    }
   ],
   "source": [
    "string_value = \"1\"\n",
    "n = 4\n",
    "\n",
    "print(string_value)\n",
    "for i in range(n-1):\n",
    "    string_value = look_and_say_sequence(string_value)\n",
    "    print(string_value)"
   ]
  }
 ],
 "metadata": {
  "kernelspec": {
   "display_name": "Python 3",
   "language": "python",
   "name": "python3"
  },
  "language_info": {
   "codemirror_mode": {
    "name": "ipython",
    "version": 3
   },
   "file_extension": ".py",
   "mimetype": "text/x-python",
   "name": "python",
   "nbconvert_exporter": "python",
   "pygments_lexer": "ipython3",
   "version": "3.7.3"
  }
 },
 "nbformat": 4,
 "nbformat_minor": 2
}
